{
  "nbformat": 4,
  "nbformat_minor": 0,
  "metadata": {
    "colab": {
      "provenance": [],
      "toc_visible": true
    },
    "kernelspec": {
      "name": "python3",
      "display_name": "Python 3"
    },
    "language_info": {
      "name": "python"
    }
  },
  "cells": [
    {
      "cell_type": "markdown",
      "source": [
        "# Churn Rate Analysis\n"
      ],
      "metadata": {
        "id": "KaST36NWj1oL"
      }
    },
    {
      "cell_type": "markdown",
      "source": [
        "## Importing The Libraries"
      ],
      "metadata": {
        "id": "MGzyFLSnj7WN"
      }
    },
    {
      "cell_type": "markdown",
      "source": [
        "**⚛** : We import **tensorflow** library to work with Neural Networks."
      ],
      "metadata": {
        "id": "Mo5xsuFkl1dp"
      }
    },
    {
      "cell_type": "code",
      "source": [
        "import numpy as np\n",
        "import pandas as pd\n",
        "import tensorflow as tf"
      ],
      "metadata": {
        "id": "LhKNBzGMj-gC"
      },
      "execution_count": null,
      "outputs": []
    },
    {
      "cell_type": "code",
      "source": [
        "tf.__version__"
      ],
      "metadata": {
        "colab": {
          "base_uri": "https://localhost:8080/",
          "height": 35
        },
        "id": "8wTnrGuMkHcI",
        "outputId": "159f3c5a-cd5a-4c24-8a1e-2d78bcfe3c30"
      },
      "execution_count": null,
      "outputs": [
        {
          "output_type": "execute_result",
          "data": {
            "text/plain": [
              "'2.8.2'"
            ],
            "application/vnd.google.colaboratory.intrinsic+json": {
              "type": "string"
            }
          },
          "metadata": {},
          "execution_count": 2
        }
      ]
    },
    {
      "cell_type": "markdown",
      "source": [
        "## Part 1 - Data Preprocessing"
      ],
      "metadata": {
        "id": "ni1V7NEamAvP"
      }
    },
    {
      "cell_type": "markdown",
      "source": [
        "### Importing The Dataset"
      ],
      "metadata": {
        "id": "RDH65ZapmIcM"
      }
    },
    {
      "cell_type": "code",
      "source": [
        "dataset = pd.read_csv('Churn_Modelling.csv')\n",
        "X = dataset.iloc[:, 3:-1].values\n",
        "y = dataset.iloc[:, -1].values"
      ],
      "metadata": {
        "id": "DiWJdHaImMIN"
      },
      "execution_count": null,
      "outputs": []
    },
    {
      "cell_type": "markdown",
      "source": [
        "### Encoding The Categorical Data"
      ],
      "metadata": {
        "id": "tJhaxj1imw_G"
      }
    },
    {
      "cell_type": "markdown",
      "source": [
        "**⚛** : We use **Label Encoding** for \"Gender\" column since they have a linear order between them."
      ],
      "metadata": {
        "id": "qbhXVD8RqSNq"
      }
    },
    {
      "cell_type": "code",
      "source": [
        "from sklearn.preprocessing import LabelEncoder\n",
        "le = LabelEncoder()\n",
        "X[:, 2] = le.fit_transform(X[:, 2])"
      ],
      "metadata": {
        "id": "UfX2I1qKm0tD"
      },
      "execution_count": null,
      "outputs": []
    },
    {
      "cell_type": "markdown",
      "source": [
        "**⚛** : We use **One Hot Encoding** for \"Geography\" column since they have no linear order (relationship) between them."
      ],
      "metadata": {
        "id": "LeEhe77dq1zd"
      }
    },
    {
      "cell_type": "code",
      "source": [
        "from sklearn.compose import ColumnTransformer\n",
        "from sklearn.preprocessing import OneHotEncoder\n",
        "ct = ColumnTransformer(transformers=[('encoder', OneHotEncoder(), [1])], remainder='passthrough')\n",
        "X = np.array(ct.fit_transform(X))"
      ],
      "metadata": {
        "id": "XTiZDp0DrF61"
      },
      "execution_count": null,
      "outputs": []
    },
    {
      "cell_type": "markdown",
      "source": [
        "### Splitting The Dataset Into The Training Set and Test Set"
      ],
      "metadata": {
        "id": "3CvNfm6qr5AR"
      }
    },
    {
      "cell_type": "code",
      "source": [
        "from sklearn.model_selection import train_test_split\n",
        "X_train, X_test, y_train, y_test = train_test_split(X, y, test_size=0.2, random_state=0)"
      ],
      "metadata": {
        "id": "3aZWarodr9eT"
      },
      "execution_count": null,
      "outputs": []
    },
    {
      "cell_type": "markdown",
      "source": [
        "### Feature Scaling"
      ],
      "metadata": {
        "id": "7tVS1tS5sM2d"
      }
    },
    {
      "cell_type": "markdown",
      "source": [
        "**⚛** : Note that **Feature Scaling** in absolutely necessary for Neural Networks."
      ],
      "metadata": {
        "id": "EQycmHOetXaA"
      }
    },
    {
      "cell_type": "code",
      "source": [
        "from sklearn.preprocessing import StandardScaler\n",
        "sc = StandardScaler()\n",
        "X_train = sc.fit_transform(X_train)\n",
        "X_test = sc.transform(X_test)"
      ],
      "metadata": {
        "id": "VDwqYXRNshX6"
      },
      "execution_count": null,
      "outputs": []
    },
    {
      "cell_type": "markdown",
      "source": [
        "## Part 2 - Building The ANN"
      ],
      "metadata": {
        "id": "dY3G46EWvoVQ"
      }
    },
    {
      "cell_type": "markdown",
      "source": [
        "**⚛** : In this part we build the scheme of a Neural Network which is not trained yet."
      ],
      "metadata": {
        "id": "1Kf9cqM5zvva"
      }
    },
    {
      "cell_type": "markdown",
      "source": [
        "### Initializing The ANN"
      ],
      "metadata": {
        "id": "5Iq4yl8-0Ggy"
      }
    },
    {
      "cell_type": "markdown",
      "source": [
        "**⚛** : To initialize our Neural Network, we must first create an instance of it.\n",
        "\n",
        "**Sequential()** : Since our initialized Neural Network for this particular dataset is a sequence of all connected neurons, we use **Sequential()** class of **models** module which belongs to **keras** module of **tensorflow** library.\n",
        "\n",
        "**keras** : This module belongs to **tensorflow** library which is widely used in building Neural Networks.\n",
        "\n",
        "**models** : This module belongs to **keras** module and determines the model of our Neural Network."
      ],
      "metadata": {
        "id": "lIznY3Qc0KZX"
      }
    },
    {
      "cell_type": "code",
      "source": [
        "ann = tf.keras.models.Sequential()"
      ],
      "metadata": {
        "id": "KwkGShO40XmS"
      },
      "execution_count": null,
      "outputs": []
    },
    {
      "cell_type": "markdown",
      "source": [
        "### Adding The Input Layer & The First Hidden Layer"
      ],
      "metadata": {
        "id": "uvzq31b91jRh"
      }
    },
    {
      "cell_type": "markdown",
      "source": [
        "**add** : In order to add  a layer to our NN model, we use **add** function.\n",
        "\n",
        "**layers** : It's a class belonged to **tf.keras** module which allows us to add layers to our NN model and it must be given to **add** function as an input.\n",
        "\n",
        "**dense** : It's a function which allows us to connect all the neurons of 2 layers and create a fully connected computational graph and it is also widely used to add any type of layers (hidden or output).\n",
        "\n",
        "**units** This attribute is given to **dense** function as an input as an indicator for number of Neurons in our hidden layer.\n",
        "\n",
        "**activation** : This attribute is given to **dense** function as an input as an indicator for the type of activation function for each Neuron in a certain layer.\n",
        "\n",
        "**⚛** : Note that in classification NNs, we use **rectifier** activation function in hidden layers & use **sigmoid** activation function in output layer which allows us to have access not only to the prediction but also to the probability of that prediction.\n",
        "\n",
        "**relu** : Stands for **rectifier**.\n",
        "\n",
        "**sigmoid** Stands for **sigmoid**."
      ],
      "metadata": {
        "id": "E9Ue8Ttn2BV0"
      }
    },
    {
      "cell_type": "code",
      "source": [
        "ann.add(tf.keras.layers.Dense(units=6, activation='relu'))"
      ],
      "metadata": {
        "id": "wwIV99hS1pdy"
      },
      "execution_count": null,
      "outputs": []
    },
    {
      "cell_type": "markdown",
      "source": [
        "### Adding The Second Hidden Layer"
      ],
      "metadata": {
        "id": "zavvB78X4EsA"
      }
    },
    {
      "cell_type": "markdown",
      "source": [
        "**⚛** : The number of Neurons (Nodes) in each hidden layer is totally experimental and the best number will be found through evaluating the accuracy.\n",
        "\n",
        "**⚛** : NNs with 1 hidden layers are called **Shallow** models and in order to create a deep learning model, NN must have more than 1 hidden layer."
      ],
      "metadata": {
        "id": "bbXHrlDE4LDq"
      }
    },
    {
      "cell_type": "code",
      "source": [
        "ann.add(tf.keras.layers.Dense(units=6, activation='relu'))"
      ],
      "metadata": {
        "id": "qo1CpYK54I2f"
      },
      "execution_count": null,
      "outputs": []
    },
    {
      "cell_type": "markdown",
      "source": [
        "### Adding The Output Layer"
      ],
      "metadata": {
        "id": "1gXaYr6j45TB"
      }
    },
    {
      "cell_type": "markdown",
      "source": [
        "**⚛** : The number of nodes in output layer is totally related on the number and the relativity of output classes."
      ],
      "metadata": {
        "id": "oasIc5PL5KOc"
      }
    },
    {
      "cell_type": "code",
      "source": [
        "ann.add(tf.keras.layers.Dense(units=1, activation='sigmoid'))"
      ],
      "metadata": {
        "id": "xGhBy-Ua4-Gj"
      },
      "execution_count": null,
      "outputs": []
    },
    {
      "cell_type": "markdown",
      "source": [
        "## Part 3 - Training The ANN"
      ],
      "metadata": {
        "id": "-G8e8YWP5Y2l"
      }
    },
    {
      "cell_type": "markdown",
      "source": [
        "### Compiling The ANN"
      ],
      "metadata": {
        "id": "tqTuHWhb5dV1"
      }
    },
    {
      "cell_type": "markdown",
      "source": [
        "**⚛** : In this part we must compile our NN model which means we have to choose 3 important values.\n",
        "\n",
        "    - **optimizer** : Defines the method with which we want to optimize our model(mini-batch Gradient Descent).\n",
        "    \n",
        "    - **loss** : Defines the type  of **Cost Function** with which we want to calculate the loss.\n",
        "\n",
        "    - **metrics** : Defines the evaluation method.\n",
        "\n",
        "**adam** : This optimizer is one of the most common & powerful optimizers & is given to **optimizer** attribute as an input.\n",
        "\n",
        "**binary_crossentropy** : This value is given to **loss** attribute which is the best **Cost Function** for classification NNs.\n",
        "\n",
        "**['accuracy']** : This method is one of the best methods for evaluation of ANN & it's given to **metrics** attribute as an input.\n",
        "\n",
        "**compile** : This method belongs to NN objects & it's used to take 3 mentioned attributes and compiles the NN model."
      ],
      "metadata": {
        "id": "on0bjp6U81XI"
      }
    },
    {
      "cell_type": "code",
      "source": [
        "ann.compile(optimizer='adam', loss='binary_crossentropy', metrics=['accuracy'])"
      ],
      "metadata": {
        "id": "5gO72xyz8mMZ"
      },
      "execution_count": null,
      "outputs": []
    },
    {
      "cell_type": "markdown",
      "source": [
        "### Training The ANN On The Training Set"
      ],
      "metadata": {
        "id": "HyoCw1jP-1EU"
      }
    },
    {
      "cell_type": "markdown",
      "source": [
        "**batch_size** : This attribute is given to **fit** function as an input which takes the number of observations required for updating the weights.\n",
        "\n",
        "**⚛** : **32** is the default value for mini-batch GD.\n",
        "\n",
        "**epochs** : This attribute is given to **fit** function as an input which takes in the number of epochs we want our NN model go through."
      ],
      "metadata": {
        "id": "YqG_XPT3_MYd"
      }
    },
    {
      "cell_type": "code",
      "source": [
        "ann.fit(X_train, y_train, batch_size=32, epochs=100)"
      ],
      "metadata": {
        "colab": {
          "base_uri": "https://localhost:8080/"
        },
        "id": "dy2Zg5Ul-6mq",
        "outputId": "08e6d079-bafb-40e8-dd0b-5b9f5c90758b"
      },
      "execution_count": null,
      "outputs": [
        {
          "output_type": "stream",
          "name": "stdout",
          "text": [
            "Epoch 1/100\n",
            "250/250 [==============================] - 1s 2ms/step - loss: 0.5762 - accuracy: 0.7663\n",
            "Epoch 2/100\n",
            "250/250 [==============================] - 0s 2ms/step - loss: 0.4830 - accuracy: 0.7962\n",
            "Epoch 3/100\n",
            "250/250 [==============================] - 0s 2ms/step - loss: 0.4561 - accuracy: 0.7989\n",
            "Epoch 4/100\n",
            "250/250 [==============================] - 1s 3ms/step - loss: 0.4435 - accuracy: 0.8023\n",
            "Epoch 5/100\n",
            "250/250 [==============================] - 1s 3ms/step - loss: 0.4354 - accuracy: 0.8084\n",
            "Epoch 6/100\n",
            "250/250 [==============================] - 1s 4ms/step - loss: 0.4285 - accuracy: 0.8102\n",
            "Epoch 7/100\n",
            "250/250 [==============================] - 1s 4ms/step - loss: 0.4217 - accuracy: 0.8145\n",
            "Epoch 8/100\n",
            "250/250 [==============================] - 1s 3ms/step - loss: 0.4140 - accuracy: 0.8185\n",
            "Epoch 9/100\n",
            "250/250 [==============================] - 1s 2ms/step - loss: 0.4044 - accuracy: 0.8270\n",
            "Epoch 10/100\n",
            "250/250 [==============================] - 1s 3ms/step - loss: 0.3919 - accuracy: 0.8361\n",
            "Epoch 11/100\n",
            "250/250 [==============================] - 1s 3ms/step - loss: 0.3783 - accuracy: 0.8455\n",
            "Epoch 12/100\n",
            "250/250 [==============================] - 1s 3ms/step - loss: 0.3666 - accuracy: 0.8501\n",
            "Epoch 13/100\n",
            "250/250 [==============================] - 1s 3ms/step - loss: 0.3586 - accuracy: 0.8534\n",
            "Epoch 14/100\n",
            "250/250 [==============================] - 1s 3ms/step - loss: 0.3537 - accuracy: 0.8550\n",
            "Epoch 15/100\n",
            "250/250 [==============================] - 1s 3ms/step - loss: 0.3499 - accuracy: 0.8562\n",
            "Epoch 16/100\n",
            "250/250 [==============================] - 1s 3ms/step - loss: 0.3475 - accuracy: 0.8580\n",
            "Epoch 17/100\n",
            "250/250 [==============================] - 1s 3ms/step - loss: 0.3459 - accuracy: 0.8586\n",
            "Epoch 18/100\n",
            "250/250 [==============================] - 1s 3ms/step - loss: 0.3448 - accuracy: 0.8597\n",
            "Epoch 19/100\n",
            "250/250 [==============================] - 1s 3ms/step - loss: 0.3437 - accuracy: 0.8574\n",
            "Epoch 20/100\n",
            "250/250 [==============================] - 1s 3ms/step - loss: 0.3427 - accuracy: 0.8593\n",
            "Epoch 21/100\n",
            "250/250 [==============================] - 1s 3ms/step - loss: 0.3422 - accuracy: 0.8604\n",
            "Epoch 22/100\n",
            "250/250 [==============================] - 1s 4ms/step - loss: 0.3416 - accuracy: 0.8601\n",
            "Epoch 23/100\n",
            "250/250 [==============================] - 1s 5ms/step - loss: 0.3415 - accuracy: 0.8605\n",
            "Epoch 24/100\n",
            "250/250 [==============================] - 1s 4ms/step - loss: 0.3408 - accuracy: 0.8610\n",
            "Epoch 25/100\n",
            "250/250 [==============================] - 1s 5ms/step - loss: 0.3403 - accuracy: 0.8609\n",
            "Epoch 26/100\n",
            "250/250 [==============================] - 1s 4ms/step - loss: 0.3401 - accuracy: 0.8606\n",
            "Epoch 27/100\n",
            "250/250 [==============================] - 1s 3ms/step - loss: 0.3398 - accuracy: 0.8619\n",
            "Epoch 28/100\n",
            "250/250 [==============================] - 1s 3ms/step - loss: 0.3398 - accuracy: 0.8625\n",
            "Epoch 29/100\n",
            "250/250 [==============================] - 1s 4ms/step - loss: 0.3394 - accuracy: 0.8620\n",
            "Epoch 30/100\n",
            "250/250 [==============================] - 1s 4ms/step - loss: 0.3391 - accuracy: 0.8610\n",
            "Epoch 31/100\n",
            "250/250 [==============================] - 1s 4ms/step - loss: 0.3387 - accuracy: 0.8618\n",
            "Epoch 32/100\n",
            "250/250 [==============================] - 1s 6ms/step - loss: 0.3387 - accuracy: 0.8639\n",
            "Epoch 33/100\n",
            "250/250 [==============================] - 1s 3ms/step - loss: 0.3386 - accuracy: 0.8626\n",
            "Epoch 34/100\n",
            "250/250 [==============================] - 1s 3ms/step - loss: 0.3385 - accuracy: 0.8614\n",
            "Epoch 35/100\n",
            "250/250 [==============================] - 1s 3ms/step - loss: 0.3380 - accuracy: 0.8630\n",
            "Epoch 36/100\n",
            "250/250 [==============================] - 1s 3ms/step - loss: 0.3379 - accuracy: 0.8630\n",
            "Epoch 37/100\n",
            "250/250 [==============================] - 1s 3ms/step - loss: 0.3374 - accuracy: 0.8635\n",
            "Epoch 38/100\n",
            "250/250 [==============================] - 0s 2ms/step - loss: 0.3383 - accuracy: 0.8620\n",
            "Epoch 39/100\n",
            "250/250 [==============================] - 0s 2ms/step - loss: 0.3374 - accuracy: 0.8630\n",
            "Epoch 40/100\n",
            "250/250 [==============================] - 0s 2ms/step - loss: 0.3373 - accuracy: 0.8636\n",
            "Epoch 41/100\n",
            "250/250 [==============================] - 0s 2ms/step - loss: 0.3371 - accuracy: 0.8633\n",
            "Epoch 42/100\n",
            "250/250 [==============================] - 0s 2ms/step - loss: 0.3365 - accuracy: 0.8631\n",
            "Epoch 43/100\n",
            "250/250 [==============================] - 0s 2ms/step - loss: 0.3368 - accuracy: 0.8619\n",
            "Epoch 44/100\n",
            "250/250 [==============================] - 0s 2ms/step - loss: 0.3366 - accuracy: 0.8630\n",
            "Epoch 45/100\n",
            "250/250 [==============================] - 0s 2ms/step - loss: 0.3366 - accuracy: 0.8633\n",
            "Epoch 46/100\n",
            "250/250 [==============================] - 0s 2ms/step - loss: 0.3360 - accuracy: 0.8611\n",
            "Epoch 47/100\n",
            "250/250 [==============================] - 0s 2ms/step - loss: 0.3358 - accuracy: 0.8629\n",
            "Epoch 48/100\n",
            "250/250 [==============================] - 0s 2ms/step - loss: 0.3362 - accuracy: 0.8626\n",
            "Epoch 49/100\n",
            "250/250 [==============================] - 0s 2ms/step - loss: 0.3358 - accuracy: 0.8614\n",
            "Epoch 50/100\n",
            "250/250 [==============================] - 0s 2ms/step - loss: 0.3354 - accuracy: 0.8602\n",
            "Epoch 51/100\n",
            "250/250 [==============================] - 0s 2ms/step - loss: 0.3354 - accuracy: 0.8651\n",
            "Epoch 52/100\n",
            "250/250 [==============================] - 0s 1ms/step - loss: 0.3350 - accuracy: 0.8629\n",
            "Epoch 53/100\n",
            "250/250 [==============================] - 0s 2ms/step - loss: 0.3353 - accuracy: 0.8634\n",
            "Epoch 54/100\n",
            "250/250 [==============================] - 0s 2ms/step - loss: 0.3349 - accuracy: 0.8621\n",
            "Epoch 55/100\n",
            "250/250 [==============================] - 0s 2ms/step - loss: 0.3349 - accuracy: 0.8641\n",
            "Epoch 56/100\n",
            "250/250 [==============================] - 0s 2ms/step - loss: 0.3343 - accuracy: 0.8639\n",
            "Epoch 57/100\n",
            "250/250 [==============================] - 0s 2ms/step - loss: 0.3343 - accuracy: 0.8614\n",
            "Epoch 58/100\n",
            "250/250 [==============================] - 0s 2ms/step - loss: 0.3346 - accuracy: 0.8639\n",
            "Epoch 59/100\n",
            "250/250 [==============================] - 0s 2ms/step - loss: 0.3345 - accuracy: 0.8614\n",
            "Epoch 60/100\n",
            "250/250 [==============================] - 0s 2ms/step - loss: 0.3343 - accuracy: 0.8631\n",
            "Epoch 61/100\n",
            "250/250 [==============================] - 0s 2ms/step - loss: 0.3341 - accuracy: 0.8631\n",
            "Epoch 62/100\n",
            "250/250 [==============================] - 0s 2ms/step - loss: 0.3343 - accuracy: 0.8616\n",
            "Epoch 63/100\n",
            "250/250 [==============================] - 0s 2ms/step - loss: 0.3340 - accuracy: 0.8631\n",
            "Epoch 64/100\n",
            "250/250 [==============================] - 0s 2ms/step - loss: 0.3340 - accuracy: 0.8635\n",
            "Epoch 65/100\n",
            "250/250 [==============================] - 0s 2ms/step - loss: 0.3341 - accuracy: 0.8630\n",
            "Epoch 66/100\n",
            "250/250 [==============================] - 0s 2ms/step - loss: 0.3336 - accuracy: 0.8633\n",
            "Epoch 67/100\n",
            "250/250 [==============================] - 0s 2ms/step - loss: 0.3334 - accuracy: 0.8622\n",
            "Epoch 68/100\n",
            "250/250 [==============================] - 0s 2ms/step - loss: 0.3331 - accuracy: 0.8622\n",
            "Epoch 69/100\n",
            "250/250 [==============================] - 0s 2ms/step - loss: 0.3334 - accuracy: 0.8627\n",
            "Epoch 70/100\n",
            "250/250 [==============================] - 0s 2ms/step - loss: 0.3334 - accuracy: 0.8631\n",
            "Epoch 71/100\n",
            "250/250 [==============================] - 0s 2ms/step - loss: 0.3330 - accuracy: 0.8626\n",
            "Epoch 72/100\n",
            "250/250 [==============================] - 0s 2ms/step - loss: 0.3331 - accuracy: 0.8634\n",
            "Epoch 73/100\n",
            "250/250 [==============================] - 0s 2ms/step - loss: 0.3330 - accuracy: 0.8626\n",
            "Epoch 74/100\n",
            "250/250 [==============================] - 0s 2ms/step - loss: 0.3329 - accuracy: 0.8629\n",
            "Epoch 75/100\n",
            "250/250 [==============================] - 0s 2ms/step - loss: 0.3326 - accuracy: 0.8636\n",
            "Epoch 76/100\n",
            "250/250 [==============================] - 0s 2ms/step - loss: 0.3325 - accuracy: 0.8631\n",
            "Epoch 77/100\n",
            "250/250 [==============================] - 0s 2ms/step - loss: 0.3327 - accuracy: 0.8651\n",
            "Epoch 78/100\n",
            "250/250 [==============================] - 0s 2ms/step - loss: 0.3325 - accuracy: 0.8641\n",
            "Epoch 79/100\n",
            "250/250 [==============================] - 0s 2ms/step - loss: 0.3324 - accuracy: 0.8618\n",
            "Epoch 80/100\n",
            "250/250 [==============================] - 0s 2ms/step - loss: 0.3323 - accuracy: 0.8640\n",
            "Epoch 81/100\n",
            "250/250 [==============================] - 0s 2ms/step - loss: 0.3326 - accuracy: 0.8639\n",
            "Epoch 82/100\n",
            "250/250 [==============================] - 0s 2ms/step - loss: 0.3320 - accuracy: 0.8637\n",
            "Epoch 83/100\n",
            "250/250 [==============================] - 0s 2ms/step - loss: 0.3323 - accuracy: 0.8635\n",
            "Epoch 84/100\n",
            "250/250 [==============================] - 0s 2ms/step - loss: 0.3318 - accuracy: 0.8646\n",
            "Epoch 85/100\n",
            "250/250 [==============================] - 0s 2ms/step - loss: 0.3320 - accuracy: 0.8631\n",
            "Epoch 86/100\n",
            "250/250 [==============================] - 0s 2ms/step - loss: 0.3320 - accuracy: 0.8618\n",
            "Epoch 87/100\n",
            "250/250 [==============================] - 0s 2ms/step - loss: 0.3318 - accuracy: 0.8640\n",
            "Epoch 88/100\n",
            "250/250 [==============================] - 0s 2ms/step - loss: 0.3317 - accuracy: 0.8643\n",
            "Epoch 89/100\n",
            "250/250 [==============================] - 0s 2ms/step - loss: 0.3320 - accuracy: 0.8636\n",
            "Epoch 90/100\n",
            "250/250 [==============================] - 0s 2ms/step - loss: 0.3315 - accuracy: 0.8625\n",
            "Epoch 91/100\n",
            "250/250 [==============================] - 0s 2ms/step - loss: 0.3315 - accuracy: 0.8626\n",
            "Epoch 92/100\n",
            "250/250 [==============================] - 0s 2ms/step - loss: 0.3312 - accuracy: 0.8637\n",
            "Epoch 93/100\n",
            "250/250 [==============================] - 0s 2ms/step - loss: 0.3315 - accuracy: 0.8636\n",
            "Epoch 94/100\n",
            "250/250 [==============================] - 0s 2ms/step - loss: 0.3313 - accuracy: 0.8643\n",
            "Epoch 95/100\n",
            "250/250 [==============================] - 0s 2ms/step - loss: 0.3312 - accuracy: 0.8645\n",
            "Epoch 96/100\n",
            "250/250 [==============================] - 0s 2ms/step - loss: 0.3309 - accuracy: 0.8648\n",
            "Epoch 97/100\n",
            "250/250 [==============================] - 0s 2ms/step - loss: 0.3312 - accuracy: 0.8646\n",
            "Epoch 98/100\n",
            "250/250 [==============================] - 0s 2ms/step - loss: 0.3312 - accuracy: 0.8637\n",
            "Epoch 99/100\n",
            "250/250 [==============================] - 0s 2ms/step - loss: 0.3309 - accuracy: 0.8649\n",
            "Epoch 100/100\n",
            "250/250 [==============================] - 0s 2ms/step - loss: 0.3310 - accuracy: 0.8641\n"
          ]
        },
        {
          "output_type": "execute_result",
          "data": {
            "text/plain": [
              "<keras.callbacks.History at 0x7f315765d490>"
            ]
          },
          "metadata": {},
          "execution_count": 13
        }
      ]
    },
    {
      "cell_type": "markdown",
      "source": [
        "## Part 4 - Making The Prediction & Evaluating The Model"
      ],
      "metadata": {
        "id": "1frtbN1t_167"
      }
    },
    {
      "cell_type": "markdown",
      "source": [
        "### Predicting The Result Of A Single Observation"
      ],
      "metadata": {
        "id": "hsDhvqmk_8rM"
      }
    },
    {
      "cell_type": "markdown",
      "source": [
        "**Geography** : France\n",
        "\n",
        "**Credit Score** : 600\n",
        "\n",
        "**Gender** : Male\n",
        "\n",
        "**Age** : 40\n",
        "\n",
        "**Tenure** : 3 Years\n",
        "\n",
        "**Balance** : 60000\n",
        "\n",
        "**Number Of Products** : 2\n",
        "\n",
        "**Credit Card** : Yes\n",
        "\n",
        "**Active Member** : Yes\n",
        "\n",
        "**Salary** : 50000"
      ],
      "metadata": {
        "id": "n_nEZgESADBS"
      }
    },
    {
      "cell_type": "markdown",
      "source": [
        "**⚛** : Note that new prediction must be in shape of 2D array.\n",
        "\n",
        "**⚛** : Note that **ann.predict** function returns the probability."
      ],
      "metadata": {
        "id": "TrwqyRwGHgR3"
      }
    },
    {
      "cell_type": "code",
      "source": [
        "temp = [600, 'France', 'Male', 40, 3, 60000, 2, 1, 1, 50000]\n",
        "[temp[2]] = le.transform([temp[2]])\n",
        "temp = [temp]\n",
        "temp = sc.transform(np.array(ct.transform(temp)))\n",
        "y_pred = ann.predict(temp)\n",
        "print(y_pred)"
      ],
      "metadata": {
        "colab": {
          "base_uri": "https://localhost:8080/"
        },
        "id": "orx5iLZ_GSQf",
        "outputId": "0b1490b7-b4c4-4f14-92fc-ccb0e439bb32"
      },
      "execution_count": null,
      "outputs": [
        {
          "output_type": "stream",
          "name": "stdout",
          "text": [
            "[[0.04083475]]\n"
          ]
        }
      ]
    },
    {
      "cell_type": "code",
      "source": [
        "print(ann.predict(sc.transform([[1, 0, 0, 600, 1, 40, 3, 60000, 2, 1, 1, 50000]])) > 0.5)"
      ],
      "metadata": {
        "colab": {
          "base_uri": "https://localhost:8080/"
        },
        "id": "jwYTHiAnFp3M",
        "outputId": "49582753-1174-4f33-f054-3c4292d68bda"
      },
      "execution_count": null,
      "outputs": [
        {
          "output_type": "stream",
          "name": "stdout",
          "text": [
            "[[False]]\n"
          ]
        }
      ]
    },
    {
      "cell_type": "markdown",
      "source": [
        "### Predicting The Test Set Results"
      ],
      "metadata": {
        "id": "cCRn4LTLH8Lq"
      }
    },
    {
      "cell_type": "code",
      "source": [
        "y_test_pred = ann.predict(X_test)\n",
        "y_test_pred = (y_test_pred > 0.5) # In order to transform the probabilites into boolean values\n",
        "print('Real Values vs Predicted Values')\n",
        "print(np.concatenate((y_test.reshape(len(y_test), 1), y_test_pred.reshape(len(y_test_pred), 1)), 1))"
      ],
      "metadata": {
        "colab": {
          "base_uri": "https://localhost:8080/"
        },
        "id": "Hy73EDuvIEGF",
        "outputId": "91bdefaa-759b-4900-96bb-ce5e7c133b67"
      },
      "execution_count": null,
      "outputs": [
        {
          "output_type": "stream",
          "name": "stdout",
          "text": [
            "Real Values vs Predicted Values\n",
            "[[0 0]\n",
            " [1 0]\n",
            " [0 0]\n",
            " ...\n",
            " [0 0]\n",
            " [0 0]\n",
            " [0 0]]\n"
          ]
        }
      ]
    },
    {
      "cell_type": "markdown",
      "source": [
        "### Making The Confusion Matrix"
      ],
      "metadata": {
        "id": "-JD_hTtcJCD2"
      }
    },
    {
      "cell_type": "code",
      "source": [
        "from sklearn.metrics import confusion_matrix, accuracy_score\n",
        "cm = confusion_matrix(y_test, y_test_pred)\n",
        "print(\"Our model's Confusion Matrix is : \\n\" + str(cm))\n",
        "print()\n",
        "ac = accuracy_score(y_test, y_test_pred)\n",
        "print(\"Our model's Accuracy Score is : \\n\" + str(ac))"
      ],
      "metadata": {
        "colab": {
          "base_uri": "https://localhost:8080/"
        },
        "id": "JehZR7nOJFdT",
        "outputId": "9b2cb6fe-115d-4a11-aa8b-f0646c83399c"
      },
      "execution_count": null,
      "outputs": [
        {
          "output_type": "stream",
          "name": "stdout",
          "text": [
            "Our model's Confusion Matrix is : \n",
            "[[1519   76]\n",
            " [ 198  207]]\n",
            "\n",
            "Our model's Accuracy Score is : \n",
            "0.863\n"
          ]
        }
      ]
    }
  ]
}
